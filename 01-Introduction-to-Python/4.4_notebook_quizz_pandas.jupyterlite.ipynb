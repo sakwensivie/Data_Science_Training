{
  "metadata": {
    "language_info": {
      "codemirror_mode": {
        "name": "python",
        "version": 3
      },
      "file_extension": ".py",
      "mimetype": "text/x-python",
      "name": "python",
      "nbconvert_exporter": "python",
      "pygments_lexer": "ipython3",
      "version": "3.8"
    },
    "kernelspec": {
      "name": "python",
      "display_name": "Pyolite",
      "language": "python"
    }
  },
  "nbformat_minor": 4,
  "nbformat": 4,
  "cells": [
    {
      "cell_type": "markdown",
      "source": "<p style=\"text-align:center\">\n    <a href=\"https://skills.network/?utm_medium=Exinfluencer&utm_source=Exinfluencer&utm_content=000026UJ&utm_term=10006555&utm_id=NA-SkillsNetwork-Channel-SkillsNetworkCoursesIBMDeveloperSkillsNetworkPY0101ENSkillsNetwork1005-2022-01-01\" target=\"_blank\">\n    <img src=\"https://cf-courses-data.s3.us.cloud-object-storage.appdomain.cloud/assets/logos/SN_web_lightmode.png\" width=\"200\" alt=\"Skills Network Logo\"  />\n    </a>\n</p>\n",
      "metadata": {}
    },
    {
      "cell_type": "markdown",
      "source": "<h3> Get to Know a Pandas Array </h3>\n",
      "metadata": {}
    },
    {
      "cell_type": "markdown",
      "source": "You will use the dataframe <code>df</code> for the following:\n",
      "metadata": {}
    },
    {
      "cell_type": "code",
      "source": "import pandas as pd\n\ndf=pd.DataFrame({'a':[1,2,1],'b':[1,1,1]})",
      "metadata": {
        "trusted": true
      },
      "execution_count": 1,
      "outputs": []
    },
    {
      "cell_type": "markdown",
      "source": "1) Find the unique values in column <code> 'a' </code>:\n",
      "metadata": {}
    },
    {
      "cell_type": "code",
      "source": "print(df['a'].unique())",
      "metadata": {
        "trusted": true
      },
      "execution_count": 4,
      "outputs": [
        {
          "name": "stdout",
          "text": "[1 2]\n",
          "output_type": "stream"
        }
      ]
    },
    {
      "cell_type": "markdown",
      "source": "<details><summary>Click here for the solution</summary>\n\n```python\ndf['a'].unique()\n    \n```\n\n</details>\n         \n",
      "metadata": {}
    },
    {
      "cell_type": "markdown",
      "source": "2) Return a dataframe with only the rows where column <code> a </code> is less than two: \n",
      "metadata": {}
    },
    {
      "cell_type": "code",
      "source": "df1 = df[df['a']<2]\ndf1",
      "metadata": {
        "trusted": true
      },
      "execution_count": 8,
      "outputs": [
        {
          "ename": "<class 'NameError'>",
          "evalue": "name 'true' is not defined",
          "traceback": [
            "\u001b[0;31m---------------------------------------------------------------------------\u001b[0m",
            "\u001b[0;31mNameError\u001b[0m                                 Traceback (most recent call last)",
            "Cell \u001b[0;32mIn[8], line 3\u001b[0m\n\u001b[1;32m      1\u001b[0m df1 \u001b[38;5;241m=\u001b[39m df[df[\u001b[38;5;124m'\u001b[39m\u001b[38;5;124ma\u001b[39m\u001b[38;5;124m'\u001b[39m]\u001b[38;5;241m<\u001b[39m\u001b[38;5;241m2\u001b[39m]\n\u001b[1;32m      2\u001b[0m df1\n\u001b[0;32m----> 3\u001b[0m df[\u001b[43mtrue\u001b[49m]\n",
            "\u001b[0;31mNameError\u001b[0m: name 'true' is not defined"
          ],
          "output_type": "error"
        }
      ]
    },
    {
      "cell_type": "markdown",
      "source": "<details><summary>Click here for the solution</summary>\n\n```python\ndf[df['a']<2]\n    \n```\n\n</details>\n         \n",
      "metadata": {}
    },
    {
      "cell_type": "markdown",
      "source": "<hr>\n\n<h3 align=\"center\"> © IBM Corporation 2020. All rights reserved. <h3/>\n",
      "metadata": {}
    }
  ]
}