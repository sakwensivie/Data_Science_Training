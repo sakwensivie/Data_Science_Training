{
 "cells": [
  {
   "attachments": {},
   "cell_type": "markdown",
   "metadata": {},
   "source": [
    "# Dealing with missing Values. \n",
    "\n",
    "Missing data is when a data value is missing form the set. This can happen for a number of reasons such as the data not being collected or the data being lost.\n",
    "Missing values can be represented in a number of ways such as NaN, NA, 0, or just a blank space.\n",
    "## How to deal with missing values\n",
    "\n",
    "1. Check with the data collecton source to see if the data is missing or if it was never collected.\n",
    "1. Drop the missing values. This is only a good idea if the data is missing at random. If the data is missing at random then dropping the missing values will not affect the analysis.\n",
    "3. Replacing the data. One way to replace is to replace with the average of the data. What if the variable cannot be averaged. Then replace with either the mode or the median.\n",
    "You can also replace them based on other functions.\n",
    "4. Leave the data as missing.\n",
    "\n",
    "### How to drop missing values\n",
    "use `dataframes.dropna()`\n",
    "```python\n",
    "df.dropna(substet=[\"price\"], axis=0, inplace=True)\n",
    "```\n",
    "nb: axis=0 means drop the entire row. axis=1 means drop the entire column.\n",
    "\n",
    "### How to replace missing values\n",
    "\n",
    "We can also replace using `dataframes.replace()`\n",
    "```python\n",
    "df.replace(missing_value, new_value)\n",
    "```\n"
   ]
  },
  {
   "cell_type": "code",
   "execution_count": null,
   "metadata": {},
   "outputs": [],
   "source": []
  },
  {
   "attachments": {},
   "cell_type": "markdown",
   "metadata": {},
   "source": []
  }
 ],
 "metadata": {
  "kernelspec": {
   "display_name": "Python 3",
   "language": "python",
   "name": "python3"
  },
  "language_info": {
   "name": "python",
   "version": "3.8.10"
  },
  "orig_nbformat": 4
 },
 "nbformat": 4,
 "nbformat_minor": 2
}
