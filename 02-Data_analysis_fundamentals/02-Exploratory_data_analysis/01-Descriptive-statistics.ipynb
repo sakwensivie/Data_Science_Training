{
 "cells": [
  {
   "cell_type": "code",
   "execution_count": null,
   "metadata": {},
   "outputs": [],
   "source": [
    "# Descriptive Statistics\n",
    "\n",
    "Descriptive statistics are used to describe the basic features of the data in a study. They provide simple summaries about the sample and the measures. Together with simple graphics analysis, they form the basis of virtually every quantitative analysis of data.\n",
    "It gives s short summary about the sample ond measures of the data\n",
    "\n",
    "We have already used the `describe()` method to get a summary of the data. We can also use the `info()` method to get a concise summary of the dataframe.\n",
    "\n",
    "```python\n",
    "# Get a concise summary of the dataframe\n",
    "df.describe()\n",
    "```\n",
    "\n",
    "You can summarize categorical data by using the `value-counts()` method.\n",
    "\n",
    "```python\n",
    "# Summarize categorical data\n",
    "df['column_name'].value_counts()\n",
    "```\n"
   ]
  },
  {
   "attachments": {},
   "cell_type": "markdown",
   "metadata": {},
   "source": [
    "## Box Plots\n",
    "\n",
    "Box plots are a great way to visualize the distribution of a variable. They are especially useful when comparing distributions across groups.\n"
   ]
  },
  {
   "cell_type": "code",
   "execution_count": null,
   "metadata": {},
   "outputs": [],
   "source": []
  },
  {
   "attachments": {},
   "cell_type": "markdown",
   "metadata": {},
   "source": [
    "## Scatter Plots\n",
    "\n",
    "Scatter plots are a great way to visualize two numeric variables. You can use scatter plots to visualize the relationship between two variables and to look for associations between the two.\n",
    "\n",
    "The two types of data being presented in scatter plots are:\n",
    "1. Predictor/independent variable - the variable that is being manipulated or changed\n",
    "2. Response/target/dependent variable - the variable that is being studied and measured\n"
   ]
  },
  {
   "cell_type": "code",
   "execution_count": null,
   "metadata": {},
   "outputs": [],
   "source": []
  },
  {
   "cell_type": "markdown",
   "metadata": {},
   "source": []
  }
 ],
 "metadata": {
  "language_info": {
   "name": "python"
  },
  "orig_nbformat": 4
 },
 "nbformat": 4,
 "nbformat_minor": 2
}
