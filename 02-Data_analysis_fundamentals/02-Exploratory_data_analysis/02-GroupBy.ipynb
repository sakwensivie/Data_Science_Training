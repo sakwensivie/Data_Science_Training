{
 "cells": [
  {
   "cell_type": "code",
   "execution_count": null,
   "metadata": {},
   "outputs": [],
   "source": [
    "# GroupBy() In Python\n",
    "\n",
    "Use the GroupBy() function to group data by a column name.\n",
    "    - Can be applied to catergorical data.\n",
    "    - Can group data into categories\n",
    "    - Single or multiple varaibles\n",
    "\n",
    "Basically what you do using with `GroupBy()` is to split the data into groups based on some criteria, apply a function to each group independently and then combine the results into a data structure.\n"
   ]
  },
  {
   "cell_type": "code",
   "execution_count": null,
   "metadata": {},
   "outputs": [],
   "source": []
  },
  {
   "attachments": {},
   "cell_type": "markdown",
   "metadata": {},
   "source": [
    "## `pivot()` and `pivot_table()`\n",
    "\n",
    "Use the `pivot()` method to visualise this type of data easily.\n"
   ]
  },
  {
   "cell_type": "code",
   "execution_count": null,
   "metadata": {},
   "outputs": [],
   "source": []
  },
  {
   "attachments": {},
   "cell_type": "markdown",
   "metadata": {},
   "source": [
    "## Heatmap\n",
    "\n",
    "A heatmap is a graphical representation of data where the individual values contained in a matrix are represented as colors.\n",
    "- Use the heatmap to plot targe variable over multiple variables.\n"
   ]
  },
  {
   "cell_type": "code",
   "execution_count": null,
   "metadata": {},
   "outputs": [],
   "source": []
  },
  {
   "cell_type": "markdown",
   "metadata": {},
   "source": []
  }
 ],
 "metadata": {
  "language_info": {
   "name": "python"
  },
  "orig_nbformat": 4
 },
 "nbformat": 4,
 "nbformat_minor": 2
}
