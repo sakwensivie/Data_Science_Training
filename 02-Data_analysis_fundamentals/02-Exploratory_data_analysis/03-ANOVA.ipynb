{
 "cells": [
  {
   "cell_type": "code",
   "execution_count": null,
   "metadata": {},
   "outputs": [],
   "source": [
    "# Analysis of Variance - ANOVA\n",
    "\n",
    "This is a statistical comparison of groups\n",
    "\n",
    "It helps in finding the correlation between different groups of categorical variables.\n",
    "\n",
    "## What do we obtain fron ANOVA?\n",
    "    - F-test score: it calculates the ratio of variation between groups mean over variation within each of the sample groups.\n",
    "    - P-value: it shows the significance level. The threshold of 0.05 is used in general. OR in other words the confidence level.\n",
    "\n",
    "## When to use ANOVA?\n",
    "    - ANOVA is used to compare the means of more than 2 groups.\n",
    "\n"
   ]
  },
  {
   "cell_type": "code",
   "execution_count": null,
   "metadata": {},
   "outputs": [],
   "source": []
  }
 ],
 "metadata": {
  "language_info": {
   "name": "python"
  },
  "orig_nbformat": 4
 },
 "nbformat": 4,
 "nbformat_minor": 2
}
