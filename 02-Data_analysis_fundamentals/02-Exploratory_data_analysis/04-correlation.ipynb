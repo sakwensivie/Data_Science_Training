{
 "cells": [
  {
   "attachments": {},
   "cell_type": "markdown",
   "metadata": {},
   "source": [
    "# Correlation\n",
    "\n",
    "This is a statistical metric for measuring to what extent different variables are interdependent.\n",
    "\n",
    "When we look at two variables over a long time, we are might be interested in how a change in one of the variables might affect a change in another.\n",
    "\n",
    "## Examples\n",
    "1. Smoking and lung cancer\n",
    "2. Rain and Umbrellas\n",
    "3. Ice cream sales and temperature\n",
    "\n",
    "NB: Correlation doens't imply causation."
   ]
  },
  {
   "cell_type": "code",
   "execution_count": null,
   "metadata": {},
   "outputs": [],
   "source": []
  },
  {
   "attachments": {},
   "cell_type": "markdown",
   "metadata": {},
   "source": [
    "## Correlation Statistics\n",
    "\n",
    "### Pearson Correlation\n",
    "\n",
    "This is a measure of the linear correlation between two variables X and Y. It has a value between +1 and −1, where 1 is total positive linear correlation, 0 is no linear correlation, and −1 is total negative linear correlation.\n",
    "\n",
    "#### P-value\n",
    "\n",
    "This is the probability value that the correlation between these two variables is statistically significant. Normally, we choose a significance level of 0.05, which means that we are 95% confident that the correlation between the variables is significant."
   ]
  },
  {
   "cell_type": "code",
   "execution_count": null,
   "metadata": {},
   "outputs": [],
   "source": []
  },
  {
   "cell_type": "markdown",
   "metadata": {},
   "source": []
  }
 ],
 "metadata": {
  "language_info": {
   "name": "python"
  },
  "orig_nbformat": 4
 },
 "nbformat": 4,
 "nbformat_minor": 2
}
