{
 "cells": [
  {
   "attachments": {},
   "cell_type": "markdown",
   "metadata": {},
   "source": [
    "# Model Development\n",
    "\n",
    "A model can be thought of a mathematical equation usedt to predict the a value depending on a number of input values.\n",
    "\n",
    "For example, we input the size of a house and the model predicts the price of the house.\n",
    "\n",
    "The more relevant data there is, the more accurate your model will be.\n",
    "\n",
    "In this lesson there will be talks ov simple linear regression, multiple linear regression, and polynomial regression.\n",
    "\n",
    "\n"
   ]
  },
  {
   "cell_type": "code",
   "execution_count": null,
   "metadata": {},
   "outputs": [],
   "source": []
  }
 ],
 "metadata": {
  "kernelspec": {
   "display_name": "Python 3",
   "language": "python",
   "name": "python3"
  },
  "language_info": {
   "name": "python",
   "version": "3.8.10"
  },
  "orig_nbformat": 4
 },
 "nbformat": 4,
 "nbformat_minor": 2
}
