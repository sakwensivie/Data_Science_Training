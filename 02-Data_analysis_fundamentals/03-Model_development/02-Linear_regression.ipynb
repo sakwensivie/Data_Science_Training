{
 "cells": [
  {
   "attachments": {},
   "cell_type": "markdown",
   "metadata": {},
   "source": [
    "# Linear Regression\n",
    "\n",
    "Regression searches for relationships among variables.\n",
    "\n",
    "The dependent variable is also called the target or response variable.\n",
    "\n"
   ]
  },
  {
   "attachments": {},
   "cell_type": "markdown",
   "metadata": {},
   "source": [
    "## Simple Linear Regression\n",
    "\n",
    "This is a linear regression that maps one input variable X to one output variable Y.\n",
    "\n",
    "This follows the equation:\n",
    "\n",
    "$$ Y: Response \\ Variable\\\\ :\\\\ X: Predictor \\ Variables$$\n",
    "\n",
    "```Latex\n",
    "y = b_0 + b_1 x\n",
    "```\n",
    "b0 is the y intercept and b1 is the slope.\n",
    "\n",
    "in order to find the best fit line we need to find the best values for b0 and b1 that minimize the error between the predicted value and the actual value.\n",
    "\n"
   ]
  },
  {
   "attachments": {},
   "cell_type": "markdown",
   "metadata": {},
   "source": [
    "## Multiple Linear Regression\n",
    "\n",
    "This is a linear regression that predicts one target variable Y using two or more predictor variables X.\n",
    "\n"
   ]
  },
  {
   "cell_type": "code",
   "execution_count": null,
   "metadata": {},
   "outputs": [],
   "source": []
  }
 ],
 "metadata": {
  "language_info": {
   "name": "python"
  },
  "orig_nbformat": 4
 },
 "nbformat": 4,
 "nbformat_minor": 2
}
