{
 "cells": [
  {
   "attachments": {},
   "cell_type": "markdown",
   "metadata": {},
   "source": [
    "# Polynimial Regression and Pilpelines\n",
    "\n",
    "Polynominal regression is a particular case of the general linear regression model or multiple linear regression models. We get non-linear relationships by squaring or setting higher-order terms of the predictor variables. This usally is used when we find no suitable linear fit for the data.\n",
    "\n",
    "Pipelines are ways to simplify your code. For example, we can normalize the data, perform a transform and fit the model in one line of code.\n",
    "\n",
    "The polynoinal quadratic, cubic or even way higher orders.\n",
    "\n",
    "We can also take multiple polynomial regression.\n",
    "\n"
   ]
  },
  {
   "attachments": {},
   "cell_type": "markdown",
   "metadata": {},
   "source": [
    "## Pipelines\n",
    "\n",
    "Data Pipelines simplify the steps of processing the data. We use the module Pipeline to create a pipeline. We also use StandardScaler as a step in our pipeline.\n",
    "\n"
   ]
  },
  {
   "attachments": {},
   "cell_type": "markdown",
   "metadata": {},
   "source": [
    "## Measures of _in-Sample Evaluation\n",
    "\n",
    "### Mean Squared Error (MSE)\n",
    "\n",
    "MSE is the mean of the squared error. It's more popular than RMSE because it's easier to compute and it's also differentiable. It's also a loss function.\n",
    "\n",
    "### R-squared\n",
    "\n"
   ]
  },
  {
   "attachments": {},
   "cell_type": "markdown",
   "metadata": {},
   "source": [
    "## Prediciton and Decision Maing\n",
    "\n",
    "To determine the final best fit, we look at a combination of:\n",
    "- Do the predicted values make sense?\n",
    "- Visualization\n",
    "- Numerical measures for evaluation\n",
    "- Comparing models\n",
    "\n"
   ]
  }
 ],
 "metadata": {
  "language_info": {
   "name": "python"
  },
  "orig_nbformat": 4
 },
 "nbformat": 4,
 "nbformat_minor": 2
}
